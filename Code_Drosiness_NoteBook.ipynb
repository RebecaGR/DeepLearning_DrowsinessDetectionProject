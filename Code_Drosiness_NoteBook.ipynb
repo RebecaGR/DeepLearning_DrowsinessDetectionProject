{
 "cells": [
  {
   "cell_type": "code",
   "execution_count": 1,
   "id": "17b50f5c",
   "metadata": {},
   "outputs": [],
   "source": [
    "from tensorflow.keras.layers import Conv2D, MaxPooling2D, Dense, Dropout, Flatten, LSTM, TimeDistributed, GlobalAveragePooling2D, BatchNormalization\n",
    "from tensorflow.keras.utils import to_categorical, Sequence\n",
    "from sklearn.model_selection import train_test_split\n",
    "from tensorflow.keras.optimizers import Adam\n",
    "from tensorflow.keras import Sequential\n",
    "from sklearn.utils import shuffle\n",
    "from tensorflow import keras\n",
    "import tensorflow as tf\n",
    "import numpy as np\n",
    "import pickle as pkl\n",
    "import face_recognition\n",
    "import subprocess\n",
    "import shlex\n",
    "import json\n",
    "import cv2\n",
    "import os"
   ]
  },
  {
   "cell_type": "code",
   "execution_count": 23,
   "id": "e4088d28",
   "metadata": {},
   "outputs": [],
   "source": [
    "IMG_SIZE = 64\n",
    "CHANNELS = 1\n",
    "# Max amount of frames loaded\n",
    "N_FRAMES = 10\n",
    "# Sequence at which the frames are loaded into the model\n",
    "SEQ_LEN = 10\n",
    "# Max frames per video\n",
    "MAX_FRAMES = 7200\n",
    "\n",
    "# Working directories\n",
    "cwd = os.path.basename(os.getcwd())\n",
    "# Inside Data_set there is a folder for each participant with both categories corresponding to that person\n",
    "# 'Alert' and 'Drowsy'\n",
    "path = os.path.basename(os.path.join(os.getcwd(),'Data_set'))"
   ]
  },
  {
   "cell_type": "code",
   "execution_count": 3,
   "id": "12794138",
   "metadata": {},
   "outputs": [],
   "source": [
    "# Build inceptionV3 feature extractor\n",
    "def build_feature_extractor():\n",
    "    feature_extractor = keras.applications.InceptionV3(\n",
    "        weights=\"imagenet\",\n",
    "        include_top=False,\n",
    "        pooling=\"avg\",\n",
    "        input_shape=(IMG_SIZE, IMG_SIZE, 3),\n",
    "    )\n",
    "    preprocess_input = keras.applications.inception_v3.preprocess_input\n",
    "\n",
    "    inputs = keras.Input((IMG_SIZE, IMG_SIZE, 3))\n",
    "    preprocessed = preprocess_input(inputs)\n",
    "\n",
    "    outputs = feature_extractor(preprocessed)\n",
    "    return keras.Model(inputs, outputs, name=\"feature_extractor\")"
   ]
  },
  {
   "cell_type": "code",
   "execution_count": 4,
   "id": "acfed591",
   "metadata": {},
   "outputs": [],
   "source": [
    "# Gets the rotation of a video\n",
    "def get_rotation(file_path_with_file_name):\n",
    "    \"\"\"\n",
    "    Function to get the rotation of the input video file.\n",
    "    Adapted from gist.github.com/oldo/dc7ee7f28851922cca09/revisions using the ffprobe comamand by Lord Neckbeard from\n",
    "    stackoverflow.com/questions/5287603/how-to-extract-orientation-information-from-videos?noredirect=1&lq=1\n",
    "\n",
    "    Returns a rotation None, 90, 180 or 270\n",
    "    \"\"\"\n",
    "    cmd = \"ffprobe -loglevel error -select_streams v:0 -show_entries stream_tags=rotate -of default=nw=1:nk=1\"\n",
    "    args = shlex.split(cmd)\n",
    "    args.append(file_path_with_file_name)\n",
    "    # run the ffprobe process, decode stdout into utf-8 & convert to JSON\n",
    "    ffprobe_output = subprocess.check_output(args).decode('utf-8')\n",
    "    if len(ffprobe_output) > 0:  # Output of cmdis None if it should be 0\n",
    "        ffprobe_output = json.loads(ffprobe_output)\n",
    "        rotation = ffprobe_output\n",
    "\n",
    "    else:\n",
    "        rotation = 0\n",
    "\n",
    "    return rotation \n",
    "\n",
    "# Corrects the video to showup vertical\n",
    "def correct_rot(image, rot):\n",
    "    img = image\n",
    "    if rot == 90:\n",
    "        img = cv2.rotate(image, cv2.ROTATE_90_CLOCKWISE)\n",
    "    if rot == 180:\n",
    "        img = cv2.rotate(image, cv2.ROTATE_180)\n",
    "    if rot == 270:\n",
    "        img = cv2.rotate(image, cv2.ROTATE_90_COUNTERCLOCKWISE)\n",
    "    \n",
    "    return img"
   ]
  },
  {
   "cell_type": "code",
   "execution_count": 5,
   "id": "280e69f2",
   "metadata": {},
   "outputs": [],
   "source": [
    "# Load the labels from each video's file name\n",
    "def load_category(file):\n",
    "    \n",
    "    if file.endswith(('0.mp4','0.mov','0.MOV','0.MP4','0.m4v')):      \n",
    "        label = 'Alert'\n",
    "        \n",
    "    elif file.endswith(('5.mp4','5.mov','5.MOV','5.MP4','5.m4v')):\n",
    "        label = 'Low Vigilant'\n",
    "    else:\n",
    "        label = 'Drowsy'\n",
    "        \n",
    "    return label\n",
    "\n",
    "\n",
    "# Construct the data matrix with each video path and corresponding label\n",
    "def build_matrix(path):\n",
    "    #Iterates through the directories\n",
    "    dirs = os.listdir( path )\n",
    "    paths_list = []\n",
    "    label_list = []\n",
    "    for folder in dirs:\n",
    "        if folder != '.DS_Store':\n",
    "            # Each folder contains 3 videos from the same person\n",
    "            sub_path = os.path.join(path,folder)\n",
    "            for file in os.listdir(sub_path):\n",
    "                if file != '.DS_Store':\n",
    "                    # State the path to each video\n",
    "                    video_path = os.path.join(sub_path,file)\n",
    "                    # Load the category depending on the name of the video\n",
    "                    label = load_category(video_path)\n",
    "                    if label != 'Low Vigilant':\n",
    "                        # Variables to return the paths to the videos and its labels\n",
    "                        paths_list.append(video_path)\n",
    "                        label_list.append(label)\n",
    "    # Traspose the matrix to return (116,2) --> rows: each video; columns: attribute\n",
    "    data = np.transpose([paths_list,label_list])\n",
    "    \n",
    "    return data\n",
    "\n",
    "# Convert labels to dictionary \n",
    "def define_dict(X, col):\n",
    "    \n",
    "    #Define dictionary\n",
    "    dict_labels = X[:,col]\n",
    "    labelsNames = np.unique(dict_labels)\n",
    "    labelsDict = dict(zip(labelsNames,range(len(labelsNames))))\n",
    "    labels = np.array([labelsDict[cl] for cl in dict_labels])\n",
    "    \n",
    "    #change column with dictionary values\n",
    "    X = np.delete(X,col,1)\n",
    "    \n",
    "    return X, labels, labelsDict"
   ]
  },
  {
   "cell_type": "code",
   "execution_count": 6,
   "id": "e5bc9e0c",
   "metadata": {},
   "outputs": [
    {
     "name": "stdout",
     "output_type": "stream",
     "text": [
      "Videos found:  116\n",
      "Labels found:  {'Alert': 0, 'Drowsy': 1}\n"
     ]
    }
   ],
   "source": [
    "# Build matrix with paths and labels\n",
    "data = build_matrix(path)\n",
    "# Return dictionary and labels for each video\n",
    "video_paths, labels_pre, labelsDict = define_dict(data,1)\n",
    "# Reduce one dimension from video_paths. From: (116,1) to (116,)\n",
    "video_paths = video_paths.squeeze(axis=1)\n",
    "# Transform the labels category from integer values to one-hot encoding\n",
    "labels_one_hot = to_categorical(labels_pre)\n",
    "\n",
    "print('Videos found: ', len(video_paths))\n",
    "print('Labels found: ', labelsDict)"
   ]
  },
  {
   "cell_type": "code",
   "execution_count": 7,
   "id": "14f53b78",
   "metadata": {},
   "outputs": [],
   "source": [
    "# Display video detecting the face and eyes\n",
    "def show_video(path,frame_rate=1):\n",
    "    cap = cv2.VideoCapture(path)\n",
    "    # Gets the rotation from the video\n",
    "    rot = get_rotation(path)\n",
    "    \n",
    "    # Detects the face and eyes from the people in the video\n",
    "    haarcascade_folder = os.path.join(os.getcwd(),'haarcascades')\n",
    "    face_cascade = cv2.CascadeClassifier(os.path.join(haarcascade_folder,'haarcascade_frontalface_default.xml'))\n",
    "    eye_cascade = cv2.CascadeClassifier(os.path.join(haarcascade_folder,'haarcascade_eye.xml'))\n",
    "    \n",
    "    count = 0\n",
    "     \n",
    "    while True:\n",
    "        ret, frame = cap.read()\n",
    "        \n",
    "        # Detect if a frame is successfully readed\n",
    "        if not ret:\n",
    "            break\n",
    "        \n",
    "        # Load frames at the speed of the frame rate\n",
    "        if count % frame_rate == 0:\n",
    "            # Corrects the rotation from the frame\n",
    "            frame = correct_rot(frame,rot)\n",
    "            # Convert to gray  scale the frame\n",
    "            gray = cv2.cvtColor(frame, cv2.COLOR_BGR2GRAY)\n",
    "            # Detect the faces\n",
    "            faces = face_cascade.detectMultiScale(gray,1.3,5)\n",
    "            \n",
    "            # Display the results\n",
    "            for (x,y,w,h) in faces:\n",
    "                cv2.rectangle(frame, (x,y), (x+w,y+h), (0,0,255), 2) # Displays a rectangle for the face\n",
    "                \n",
    "                roi_gray = gray[y:y+h, x:x+w]\n",
    "                roi_color = frame[y:y+h, x:x+w]\n",
    "                eyes = eye_cascade.detectMultiScale(roi_gray,1.3,5)\n",
    "                \n",
    "                for (ex,ey,ew,eh) in eyes:\n",
    "                    cv2.rectangle(roi_color, (ex,ey), (ex+ew,ey+eh), (255,0,0), 2) # Displays a rectangle for the eyes\n",
    "            \n",
    "            # Display video\n",
    "            cv2.imshow('Video', frame)\n",
    "            \n",
    "            # Stop if escape key is pressed\n",
    "            k = cv2.waitKey(30) & 0xff\n",
    "            if k==27:\n",
    "                break\n",
    "            \n",
    "        count += 1\n",
    "        \n",
    "    # Good practice to close all windows while releasing the video capture function from OpenCV\n",
    "    cap.release()\n",
    "    cv2.destroyAllWindows()"
   ]
  },
  {
   "cell_type": "code",
   "execution_count": 11,
   "id": "0870bc30",
   "metadata": {},
   "outputs": [],
   "source": [
    "show_video(video_paths[0])"
   ]
  },
  {
   "cell_type": "code",
   "execution_count": 8,
   "id": "282341e8",
   "metadata": {},
   "outputs": [],
   "source": [
    "# Show face frames if needed\n",
    "def show_face(folder_path,path,n_frames,resize=(IMG_SIZE,IMG_SIZE)):\n",
    "    cap = cv2.VideoCapture(path)\n",
    "    base = os.path.basename(os.path.dirname(path))\n",
    "    rot = get_rotation(path)\n",
    "    \n",
    "    \n",
    "    haarcascade_folder = os.path.join(os.getcwd(),'haarcascades')\n",
    "    face_cascade = cv2.CascadeClassifier(os.path.join(haarcascade_folder,'haarcascade_frontalface_default.xml'))\n",
    "    \n",
    "    count = 0\n",
    "    \n",
    "    while True:\n",
    "        ret, frame = cap.read()\n",
    "        \n",
    "        if not ret:\n",
    "            break\n",
    "        \n",
    "        if count == n_frames:\n",
    "            break\n",
    "        \n",
    "        frame = correct_rot(frame,rot)\n",
    "        \n",
    "        # Convert to gray  scale the frame\n",
    "        gray = cv2.cvtColor(frame, cv2.COLOR_BGR2GRAY)\n",
    "        # Detect the faces\n",
    "        faces = face_cascade.detectMultiScale(gray,1.3,5)\n",
    "    \n",
    "        # Display the results\n",
    "        for (x,y,w,h) in faces:\n",
    "            # Crop the frame to leave only the face\n",
    "            face_frame = frame[y:y+h, x:x+w]\n",
    "        \n",
    "        \n",
    "        if 'face_frame' in locals(): #Face detected\n",
    "            frame = cv2.resize(face_frame,resize)\n",
    "            n = base + '_' + str(count) + '.jpg'\n",
    "            name = os.path.join(folder_path,n)\n",
    "            cv2.imwrite(name, frame)\n",
    "            count += 1\n",
    "            \n",
    "    cap.release()\n",
    "    cv2.destroyAllWindows()\n",
    "    print('\\nDone saving images')"
   ]
  },
  {
   "cell_type": "code",
   "execution_count": 29,
   "id": "52151356",
   "metadata": {},
   "outputs": [],
   "source": [
    "def load_frames(video_path,category,frame_rate=1,frame_count=N_FRAMES,max_frames=MAX_FRAMES,resize=(IMG_SIZE,IMG_SIZE)):\n",
    "    cap = cv2.VideoCapture(video_path)\n",
    "    rot = get_rotation(video_path)\n",
    "    base = os.path.basename(os.path.dirname(video_path))\n",
    "    \n",
    "    haarcascade_folder = os.path.join(os.getcwd(),'haarcascades')\n",
    "    face_cascade = cv2.CascadeClassifier(os.path.join(haarcascade_folder,'haarcascade_frontalface_default.xml'))\n",
    "  \n",
    "    count = 0\n",
    "    count_f = 0\n",
    "    frames = []\n",
    "    labels = []\n",
    "    \n",
    "    while True:\n",
    "        ret, frame = cap.read()\n",
    "        \n",
    "        if not ret:\n",
    "            break\n",
    "        \n",
    "        if count == max_frames or count_f == frame_count:\n",
    "            break\n",
    "        \n",
    "        if count % frame_rate == 0:\n",
    "            frame = correct_rot(frame,rot)\n",
    "            \n",
    "            # Convert to gray  scale the frame\n",
    "            gray = cv2.cvtColor(frame, cv2.COLOR_BGR2GRAY)\n",
    "            # Detect the faces\n",
    "            faces = face_cascade.detectMultiScale(gray,1.3,5)\n",
    "        \n",
    "            # Display the results\n",
    "            for (x,y,w,h) in faces:\n",
    "                # Crop the frame to leave only the face\n",
    "                face_frame = frame[y:y+h, x:x+w]\n",
    "            \n",
    "            \n",
    "            if 'face_frame' in locals(): #Face detected\n",
    "                face_gray = cv2.cvtColor(face_frame, cv2.COLOR_BGR2GRAY) # Converts to gray scale\n",
    "                frame = cv2.resize(face_gray,resize)/255.0 # Resizes the face frame and normilize it\n",
    "                #pred = feature_extractor.predict(frame[np.newaxis,...])\n",
    "                frames.append(frame)\n",
    "                labels.append(category)\n",
    "                count_f += 1 #One frame loaded\n",
    "            else: # Face not detected substract counter and try next frame\n",
    "                count -= 1\n",
    "        \n",
    "        count += 1\n",
    "    \n",
    "            \n",
    "    # Good practice to close all windows while releasing the video capture function from OpenCV\n",
    "    cap.release()\n",
    "    cv2.destroyAllWindows()\n",
    "    \n",
    "    frames = np.array(frames)\n",
    "    labels = np.array(labels)\n",
    "    \n",
    "    return frames, labels"
   ]
  },
  {
   "cell_type": "code",
   "execution_count": 31,
   "id": "d45c738e",
   "metadata": {
    "scrolled": true
   },
   "outputs": [
    {
     "data": {
      "image/png": "[encoded data removed]",
      "text/plain": [
       "<Figure size 432x288 with 1 Axes>"
      ]
     },
     "metadata": {
      "needs_background": "light"
     },
     "output_type": "display_data"
    }
   ],
   "source": [
    "f, _ = load_frames(video_paths[0], labels_pre[0],frame_count=1)\n",
    "from matplotlib import pyplot as plt\n",
    "# Plot image in gray scale\n",
    "plt.imshow(f[0], interpolation='nearest')\n",
    "plt.show()"
   ]
  },
  {
   "cell_type": "code",
   "execution_count": 32,
   "id": "075ee41b",
   "metadata": {},
   "outputs": [
    {
     "name": "stdout",
     "output_type": "stream",
     "text": [
      "Loaded 0 videos out of 116\n",
      "Loaded 10 videos out of 116\n",
      "Loaded 20 videos out of 116\n",
      "Loaded 30 videos out of 116\n",
      "Loaded 40 videos out of 116\n",
      "Loaded 50 videos out of 116\n",
      "Loaded 60 videos out of 116\n",
      "Loaded 70 videos out of 116\n",
      "Loaded 80 videos out of 116\n",
      "Loaded 90 videos out of 116\n",
      "Loaded 100 videos out of 116\n",
      "Loaded 110 videos out of 116\n",
      "Videos' shape:  (116, 10, 64, 64)    Labels' shape:  (116, 10, 2)\n"
     ]
    }
   ],
   "source": [
    "x = []\n",
    "y = []\n",
    "for i in range(len(video_paths)):\n",
    "    if i % 10 == 0:\n",
    "        print(f'Loaded {i} videos out of {len(video_paths)}')\n",
    "    f, l = load_frames(video_paths[i],labels_one_hot[i])\n",
    "    x.append(f)\n",
    "    y.append(l)\n",
    "\n",
    "# Convert to np.array        \n",
    "x = np.array(x).expand_dims(axis=-1)\n",
    "y = np.array(y)  \n",
    "print(\"Videos' shape: \", x.shape, \"   Labels' shape: \", y.shape)"
   ]
  },
  {
   "cell_type": "code",
   "execution_count": 49,
   "id": "61e88425",
   "metadata": {
    "scrolled": true
   },
   "outputs": [
    {
     "name": "stdout",
     "output_type": "stream",
     "text": [
      "Sets for training\n",
      "Training:  (83, 10, 64, 64, 1)\n",
      "Validation:  (12, 10, 64, 64, 1)\n",
      "Testing:  (12, 10, 64, 64, 1)\n"
     ]
    }
   ],
   "source": [
    "# Shuffle the matrix with the video_paths and its corresponding labels before the neuronal network\n",
    "pahts_shuffle, labels_shuffle = shuffle(x, y)\n",
    "# Split the data to get test set (10%)\n",
    "x_temp, x_test, y_temp, y_test = train_test_split(pahts_shuffle, labels_shuffle, test_size=0.1, random_state=42)\n",
    "# Split the data into training and validation (70%-20%   the other 10% of the data is the test set)\n",
    "x_train, x_val, y_train, y_val = train_test_split(x_temp, y_temp, test_size=0.2, random_state=42)\n",
    "\n",
    "del x_temp, y_temp\n",
    "\n",
    "print('Sets for training')\n",
    "print('Training: ', x_train.shape)\n",
    "print('Validation: ', x_test.shape)\n",
    "print('Testing: ', x_test.shape)"
   ]
  },
  {
   "cell_type": "code",
   "execution_count": 55,
   "id": "349936d2",
   "metadata": {},
   "outputs": [],
   "source": [
    "# Training hyperparameters\n",
    "NUM_EPOCHS = 10\n",
    "BATCH_SIZE = 1"
   ]
  },
  {
   "cell_type": "code",
   "execution_count": 59,
   "id": "984fc6d4",
   "metadata": {
    "scrolled": true
   },
   "outputs": [],
   "source": [
    "# Model definition\n",
    "model = Sequential([\n",
    "    TimeDistributed(Conv2D(32,(5,5),activation=\"relu\",input_shape = (SEQ_LEN, IMG_SIZE,IMG_SIZE,CHANNELS))),\n",
    "    TimeDistributed(MaxPooling2D(2,2)),\n",
    "    TimeDistributed(Conv2D(16,(3,3),activation = \"relu\")),\n",
    "    TimeDistributed(MaxPooling2D(2,2)),\n",
    "    TimeDistributed(Conv2D(8,(3,3),activation = \"relu\")),\n",
    "    TimeDistributed(GlobalAveragePooling2D()),\n",
    "    LSTM(32, activation='relu', return_sequences=False),\n",
    "    Dense(64,activation=\"relu\"),\n",
    "    BatchNormalization(),\n",
    "    Dropout(0.2),\n",
    "    Dense(32,activation=\"relu\"),\n",
    "    Dense(2,activation=\"softmax\")\n",
    "    ])\n",
    "\n",
    "model.compile(optimizer=Adam(learning_rate=0.00001), loss='binary_crossentropy', metrics = ['acc'])"
   ]
  },
  {
   "cell_type": "code",
   "execution_count": 60,
   "id": "23b583b1",
   "metadata": {
    "scrolled": true
   },
   "outputs": [
    {
     "name": "stdout",
     "output_type": "stream",
     "text": [
      "Train on 83 samples, validate on 21 samples\n",
      "Epoch 1/10\n",
      "83/83 [==============================] - 9s 108ms/sample - loss: 0.6932 - acc: 0.4639 - val_loss: 0.6928 - val_acc: 0.6190\n",
      "Epoch 2/10\n",
      "83/83 [==============================] - 4s 49ms/sample - loss: 0.6932 - acc: 0.4578 - val_loss: 0.6932 - val_acc: 0.6190\n",
      "Epoch 3/10\n",
      "83/83 [==============================] - 4s 48ms/sample - loss: 0.6932 - acc: 0.5181 - val_loss: 0.6935 - val_acc: 0.6190\n",
      "Epoch 4/10\n",
      "83/83 [==============================] - 4s 49ms/sample - loss: 0.6931 - acc: 0.5181 - val_loss: 0.6941 - val_acc: 0.5714\n",
      "Epoch 5/10\n",
      "83/83 [==============================] - 4s 50ms/sample - loss: 0.6931 - acc: 0.5181 - val_loss: 0.6948 - val_acc: 0.5238\n",
      "Epoch 6/10\n",
      "83/83 [==============================] - 4s 50ms/sample - loss: 0.6931 - acc: 0.5181 - val_loss: 0.6960 - val_acc: 0.5238\n",
      "Epoch 7/10\n",
      "83/83 [==============================] - 5s 56ms/sample - loss: 0.6931 - acc: 0.5181 - val_loss: 0.6973 - val_acc: 0.5238\n",
      "Epoch 8/10\n",
      "83/83 [==============================] - 5s 56ms/sample - loss: 0.6931 - acc: 0.5181 - val_loss: 0.6989 - val_acc: 0.5238\n",
      "Epoch 9/10\n",
      "83/83 [==============================] - 4s 52ms/sample - loss: 0.6931 - acc: 0.5181 - val_loss: 0.7004 - val_acc: 0.5238\n",
      "Epoch 10/10\n",
      "83/83 [==============================] - 4s 50ms/sample - loss: 0.6931 - acc: 0.5181 - val_loss: 0.7012 - val_acc: 0.5238\n"
     ]
    },
    {
     "data": {
      "text/plain": [
       "<tensorflow.python.keras.callbacks.History at 0x7fd809ce6b50>"
      ]
     },
     "execution_count": 60,
     "metadata": {},
     "output_type": "execute_result"
    }
   ],
   "source": [
    "# Train the model\n",
    "model.fit(x_train, y_train, batch_size=BATCH_SIZE, epochs=NUM_EPOCHS, validation_data=(x_val,y_val), verbose=1)"
   ]
  },
  {
   "cell_type": "code",
   "execution_count": 61,
   "id": "9c620164",
   "metadata": {},
   "outputs": [
    {
     "name": "stdout",
     "output_type": "stream",
     "text": [
      "\n",
      "Evaluating on test data\n",
      "12/1 [========================================================================================================================================================================================================================================================================================================================================================================] - 0s 17ms/sample - loss: 0.6769 - acc: 0.7500\n",
      "\n",
      "Testing accuracy:  0.75\n"
     ]
    }
   ],
   "source": [
    "#Evaluate trained model with test set of data and obtained generalization accuracy\n",
    "print('\\nEvaluating on test data')\n",
    "_, acc = model.evaluate(x_test,y_test,batch_size=BATCH_SIZE)\n",
    "print(\"\\nTesting accuracy: \", acc)"
   ]
  },
  {
   "cell_type": "code",
   "execution_count": 62,
   "id": "39cc0e53",
   "metadata": {},
   "outputs": [
    {
     "name": "stdout",
     "output_type": "stream",
     "text": [
      "Model: \"sequential_6\"\n",
      "_________________________________________________________________\n",
      "Layer (type)                 Output Shape              Param #   \n",
      "=================================================================\n",
      "time_distributed_36 (TimeDis multiple                  832       \n",
      "_________________________________________________________________\n",
      "time_distributed_37 (TimeDis multiple                  0         \n",
      "_________________________________________________________________\n",
      "time_distributed_38 (TimeDis multiple                  4624      \n",
      "_________________________________________________________________\n",
      "time_distributed_39 (TimeDis multiple                  0         \n",
      "_________________________________________________________________\n",
      "time_distributed_40 (TimeDis multiple                  1160      \n",
      "_________________________________________________________________\n",
      "time_distributed_41 (TimeDis multiple                  0         \n",
      "_________________________________________________________________\n",
      "lstm_6 (LSTM)                multiple                  5248      \n",
      "_________________________________________________________________\n",
      "dense_18 (Dense)             multiple                  2112      \n",
      "_________________________________________________________________\n",
      "batch_normalization_6 (Batch multiple                  256       \n",
      "_________________________________________________________________\n",
      "dropout_6 (Dropout)          multiple                  0         \n",
      "_________________________________________________________________\n",
      "dense_19 (Dense)             multiple                  2080      \n",
      "_________________________________________________________________\n",
      "dense_20 (Dense)             multiple                  66        \n",
      "=================================================================\n",
      "Total params: 16,378\n",
      "Trainable params: 16,250\n",
      "Non-trainable params: 128\n",
      "_________________________________________________________________\n"
     ]
    }
   ],
   "source": [
    "# Model architecture\n",
    "model.summary()"
   ]
  }
 ],
 "metadata": {
  "kernelspec": {
   "display_name": "Python 3 (ipykernel)",
   "language": "python",
   "name": "python3"
  },
  "language_info": {
   "codemirror_mode": {
    "name": "ipython",
    "version": 3
   },
   "file_extension": ".py",
   "mimetype": "text/x-python",
   "name": "python",
   "nbconvert_exporter": "python",
   "pygments_lexer": "ipython3",
   "version": "3.7.11"
  }
 },
 "nbformat": 4,
 "nbformat_minor": 5
}
